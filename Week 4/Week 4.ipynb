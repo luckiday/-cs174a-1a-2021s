{
 "cells": [
  {
   "cell_type": "markdown",
   "metadata": {
    "slideshow": {
     "slide_type": "slide"
    }
   },
   "source": [
    "# CS-174A Discussion 1A, Week 4\n",
    "\n",
    "@ Instructor: Prof. Asish Law\n",
    "\n",
    "@ TA: Yunqi Guo\n",
    "\n",
    "@ https://github.com/luckiday/cs174a-1a-2021s"
   ]
  },
  {
   "cell_type": "markdown",
   "metadata": {
    "slideshow": {
     "slide_type": "slide"
    }
   },
   "source": [
    "# Logistics\n",
    "\n",
    "- Assignment 2 due Apr 25. 11:59 pm\n",
    "- Group project proposal due. May 02\n",
    "- Assignment 3: due May 12, 11:59PM"
   ]
  },
  {
   "cell_type": "markdown",
   "metadata": {
    "slideshow": {
     "slide_type": "slide"
    }
   },
   "source": [
    "# Outline\n",
    "\n",
    "\n",
    "### Last week\n",
    "- Assignment 2 (Part 2)\n",
    "    - Transformation\n",
    "    - Triangle Strip\n",
    "    \n",
    "### Next up\n",
    "- Midterm review\n",
    "    - Sequence of transformations\n",
    "    - Change of basis\n",
    "- Tiny Graphics demos "
   ]
  },
  {
   "cell_type": "markdown",
   "metadata": {
    "slideshow": {
     "slide_type": "slide"
    }
   },
   "source": [
    "**Q1**: What is the diff between affine combinations and convex combination of points?"
   ]
  },
  {
   "cell_type": "markdown",
   "metadata": {
    "slideshow": {
     "slide_type": "subslide"
    }
   },
   "source": [
    "**Q2**: Parametric equations of line and triangle (barycentric coordinamtes)"
   ]
  },
  {
   "cell_type": "markdown",
   "metadata": {
    "slideshow": {
     "slide_type": "fragment"
    }
   },
   "source": [
    "A:\n",
    "\n",
    "- *Line*: $P = \\alpha_1 P_1 + \\alpha_2 P_2$, and  $\\alpha_1 + \\alpha_2 = 1$.\n",
    "- *Triangle*: \n",
    "  <img src=\"./figures/triangle.png\" alt=\"drawing\" width=\"300\"/>"
   ]
  },
  {
   "cell_type": "markdown",
   "metadata": {
    "slideshow": {
     "slide_type": "slide"
    }
   },
   "source": [
    "## Sequence of transformations\n",
    "\n",
    "-  <img src=\"figures/pumpkin.png\" alt=\"drawing\" width=\"600\"/>"
   ]
  },
  {
   "cell_type": "markdown",
   "metadata": {
    "slideshow": {
     "slide_type": "slide"
    }
   },
   "source": [
    "## Change of Basis and Model-view transformation\n",
    "\n",
    "<img src=\"figures/view_coord.png\" alt=\"drawing\" style=\"width:400px;\"/>"
   ]
  },
  {
   "cell_type": "markdown",
   "metadata": {
    "slideshow": {
     "slide_type": "slide"
    }
   },
   "source": [
    "## Change of basis \n",
    "\n",
    "- Step 0: camera is placed at the origin and facing the $-z$. $P = (0,0,-1,1)$.\n",
    "- Step 1: Move camera $(+10, 0, 0)$.\n",
    "- Step 2: Rotate the camera so that it points to the origin. \n",
    "\n",
    "Question: \n",
    "1. What's the matrix $M$ for the change of basis?\n",
    "2. What's $P$'s coordinates in the camera space after step 2?"
   ]
  },
  {
   "cell_type": "markdown",
   "metadata": {
    "slideshow": {
     "slide_type": "slide"
    }
   },
   "source": [
    "# Tiny-graphics demos"
   ]
  },
  {
   "cell_type": "markdown",
   "metadata": {
    "slideshow": {
     "slide_type": "slide"
    }
   },
   "source": [
    "# References\n",
    "- Learn WebGL: http://learnwebgl.brown37.net/index.html\n",
    "- GLSL built-in functions: https://www.shaderific.com/glsl-functions\n",
    "- shadertoy: https://www.shadertoy.com/\n",
    "- Blender: https://www.blender.org/"
   ]
  }
 ],
 "metadata": {
  "celltoolbar": "Slideshow",
  "kernelspec": {
   "display_name": "Python 3",
   "language": "python",
   "name": "python3"
  },
  "language_info": {
   "codemirror_mode": {
    "name": "ipython",
    "version": 3
   },
   "file_extension": ".py",
   "mimetype": "text/x-python",
   "name": "python",
   "nbconvert_exporter": "python",
   "pygments_lexer": "ipython3",
   "version": "3.8.5"
  }
 },
 "nbformat": 4,
 "nbformat_minor": 4
}
