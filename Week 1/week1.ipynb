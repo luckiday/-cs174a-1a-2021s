{
 "cells": [
  {
   "cell_type": "markdown",
   "metadata": {
    "slideshow": {
     "slide_type": "slide"
    }
   },
   "source": [
    "# CS-174A Discussion 1A, Week 1\n",
    "\n",
    "@ Instructor: Prof. Asish Law\n",
    "\n",
    "@ TA: Yunqi Guo\n",
    "\n",
    "@ https://github.com/luckiday/cs174a-1a-2021s"
   ]
  },
  {
   "cell_type": "markdown",
   "metadata": {
    "slideshow": {
     "slide_type": "slide"
    }
   },
   "source": [
    "# Outline\n",
    "\n",
    "- About this course\n",
    "- JavaScript Basics\n",
    "- Tiny-graphics and Assignment 0"
   ]
  },
  {
   "cell_type": "markdown",
   "metadata": {
    "slideshow": {
     "slide_type": "slide"
    }
   },
   "source": [
    "# CS-174A Introduction\n",
    "\n",
    "## About Me\n",
    "\n",
    "- Yunqi Guo, Ph.D student in Computer Science, UCLA\n",
    "\n",
    "- Office hours: Tuesday 10:00 - 12:00 AM\n",
    "\n",
    "- Email: guoyunqi@gmail.com"
   ]
  },
  {
   "cell_type": "markdown",
   "metadata": {
    "slideshow": {
     "slide_type": "slide"
    }
   },
   "source": [
    "# Outline\n",
    "\n",
    "- About CS174A and discussion sessions\n",
    "- Introduction to programming environments\n",
    "- Assignment 1 Demo"
   ]
  },
  {
   "cell_type": "markdown",
   "metadata": {
    "slideshow": {
     "slide_type": "subslide"
    }
   },
   "source": [
    "## Logistics\n",
    "\n",
    "- Piazza: piazza.com/ucla/spring2021/cs174a\n",
    "- GitHub classroom and assignment 1: \\\n",
    "    https://classroom.github.com/a/evOkPI0Z\n",
    "- Time-zone poll on CCLE\n",
    "- Group project; search for teammates"
   ]
  },
  {
   "cell_type": "markdown",
   "metadata": {
    "slideshow": {
     "slide_type": "subslide"
    }
   },
   "source": [
    "## What you can learn from this course\n",
    "\n",
    "- Mathematical foundations of computer graphics\n",
    "- Graphics programming! \n",
    "    - [Demo](https://drive.google.com/file/d/1NTtpKI9if_a2ZdCu6Jx_iJwfDQpW9oVN/view)\n",
    "    - [Some other demos](https://docs.google.com/spreadsheets/d/1K1yp3H3NAIx_GcLAiiDVmCfAPKff_8_JL8KyzBJgogw/edit?usp=sharing)"
   ]
  },
  {
   "cell_type": "markdown",
   "metadata": {
    "slideshow": {
     "slide_type": "subslide"
    }
   },
   "source": [
    "# CS174A Discussions\n",
    "\n",
    "- Review the lecture/quiz\n",
    "- Coding\n",
    "    - Graphics pipleline\n",
    "    - Assignments\n",
    "    - Course project\n",
    "- Share some fun stuff about Computer Graphics\n",
    "    - 3D modeling and design\n",
    "    - Other thing you would like to learn?"
   ]
  },
  {
   "cell_type": "markdown",
   "metadata": {
    "slideshow": {
     "slide_type": "slide"
    }
   },
   "source": [
    "# Tools \n",
    "\n",
    "- **JavaScript**\n",
    "    - High-level interface: [tiny-graphics](https://github.com/intro-graphics/tiny-graphics-js)\n",
    "    - Low-level interface: WebGL and GLSL\n",
    "- **An good IDE can save you a lot of effort!**"
   ]
  },
  {
   "cell_type": "markdown",
   "metadata": {
    "slideshow": {
     "slide_type": "subslide"
    }
   },
   "source": [
    "# JavaScript Basics\n",
    "\n",
    "- JavaScript is a programming language that adds interactivity to your website!"
   ]
  },
  {
   "cell_type": "code",
   "execution_count": 1,
   "metadata": {
    "slideshow": {
     "slide_type": "fragment"
    }
   },
   "outputs": [
    {
     "data": {
      "text/html": [
       "\n",
       "<p id=\"demo\">JavaScript can change HTML content.</p>\n",
       "<button type=\"button\" onclick='document.getElementById(\"demo\").innerHTML = \"Hello JavaScript!\"'>Click Me!</button>\n"
      ],
      "text/plain": [
       "<IPython.core.display.HTML object>"
      ]
     },
     "metadata": {},
     "output_type": "display_data"
    }
   ],
   "source": [
    "%%html\n",
    "\n",
    "<p id=\"demo\">JavaScript can change HTML content.</p>\n",
    "<button type=\"button\" onclick='document.getElementById(\"demo\").innerHTML = \"Hello JavaScript!\"'>Click Me!</button>"
   ]
  },
  {
   "cell_type": "markdown",
   "metadata": {
    "slideshow": {
     "slide_type": "subslide"
    }
   },
   "source": [
    "# JavaScript Basics\n",
    "\n",
    "- Variable\n",
    "- Function\n",
    "- Class"
   ]
  },
  {
   "cell_type": "markdown",
   "metadata": {
    "slideshow": {
     "slide_type": "subslide"
    }
   },
   "source": [
    "## Variable and Data types\n",
    "\n",
    "JavaScript variables can hold many **data types**: numbers, strings, objects and more:\n",
    "```js\n",
    "let length = 16;                            // Number\n",
    "let lastName = \"Johnson\";                   // String\n",
    "let x = {firstName:\"John\", lastName:\"Doe\"}; // Object\n",
    "```\n"
   ]
  },
  {
   "cell_type": "code",
   "execution_count": 2,
   "metadata": {
    "slideshow": {
     "slide_type": "fragment"
    }
   },
   "outputs": [
    {
     "data": {
      "application/javascript": [
       "\n",
       "const num = 16;                                  // Number\n",
       "element.text(\"The number is \" + num)\n"
      ],
      "text/plain": [
       "<IPython.core.display.Javascript object>"
      ]
     },
     "metadata": {},
     "output_type": "display_data"
    }
   ],
   "source": [
    "%%js\n",
    "\n",
    "const num = 16;                                  // Number\n",
    "element.text(\"The number is \" + num)"
   ]
  },
  {
   "cell_type": "markdown",
   "metadata": {
    "slideshow": {
     "slide_type": "subslide"
    }
   },
   "source": [
    "## var, const and let"
   ]
  },
  {
   "cell_type": "markdown",
   "metadata": {
    "slideshow": {
     "slide_type": "subslide"
    }
   },
   "source": [
    "## var, const and let\n",
    "\n",
    "- var: function-scoped\n",
    "- [ES6] const, let: block-scoped"
   ]
  },
  {
   "cell_type": "code",
   "execution_count": 7,
   "metadata": {
    "scrolled": true,
    "slideshow": {
     "slide_type": "fragment"
    }
   },
   "outputs": [
    {
     "data": {
      "application/javascript": [
       "\n",
       "function start(){\n",
       "    for (var i = 0; i < 5; i++){\n",
       "            \n",
       "    }\n",
       "    element.text(i); \n",
       "}\n",
       "\n",
       "start()\n"
      ],
      "text/plain": [
       "<IPython.core.display.Javascript object>"
      ]
     },
     "metadata": {},
     "output_type": "display_data"
    }
   ],
   "source": [
    "%%js\n",
    "\n",
    "function start(){\n",
    "    for (var i = 0; i < 5; i++){\n",
    "        \n",
    "    }\n",
    "    element.text(i); \n",
    "}\n",
    "\n",
    "start()"
   ]
  },
  {
   "cell_type": "markdown",
   "metadata": {
    "slideshow": {
     "slide_type": "subslide"
    }
   },
   "source": [
    "## Object\n",
    "\n",
    "Define (and create) a JavaScript object with an object literal:\n",
    "\n",
    "```js\n",
    "let person = {firstName:\"John\", lastName:\"Doe\", age:50, eyeColor:\"blue\"};\n",
    "```"
   ]
  },
  {
   "cell_type": "code",
   "execution_count": 29,
   "metadata": {
    "slideshow": {
     "slide_type": "fragment"
    }
   },
   "outputs": [
    {
     "data": {
      "application/javascript": [
       "let person = {firstName:\"John\", lastName:\"Doe\", age:50, eyeColor:\"blue\"};\n",
       "element.text(person.firstName + \"'s age is \" + person[\"age\"]);  \n",
       "\n",
       "// two ways for accessing the property of an object\n",
       "let name = 0;\n",
       "let name_2 = \"0\";\n",
       "\n",
       "element.text(name == name_2)\n",
       "// element.text(typeof name_2)\n"
      ],
      "text/plain": [
       "<IPython.core.display.Javascript object>"
      ]
     },
     "metadata": {},
     "output_type": "display_data"
    }
   ],
   "source": [
    "%%js\n",
    "let person = {firstName:\"John\", lastName:\"Doe\", age:50, eyeColor:\"blue\"};\n",
    "element.text(person.firstName + \"'s age is \" + person[\"age\"]);  \n",
    "\n",
    "// two ways for accessing the property of an object\n",
    "let name = 0;\n",
    "let name_2 = \"0\";\n",
    "\n",
    "element.text(name == name_2)\n",
    "// element.text(typeof name_2)"
   ]
  },
  {
   "cell_type": "markdown",
   "metadata": {
    "slideshow": {
     "slide_type": "subslide"
    }
   },
   "source": [
    "## Function\n",
    "\n",
    "A JavaScript function is a block of code designed to perform a particular task.\n",
    "\n",
    "A JavaScript function is executed when \"something\" invokes it (calls it)."
   ]
  },
  {
   "cell_type": "code",
   "execution_count": 23,
   "metadata": {
    "slideshow": {
     "slide_type": "fragment"
    }
   },
   "outputs": [
    {
     "data": {
      "application/javascript": [
       "function myFunction(p1, p2) {\n",
       "  return p1 * p2;   // The function returns the product of p1 and p2\n",
       "}\n",
       "\n",
       "let a = 3;\n",
       "let b = 4;\n",
       "element.text(\"The product of a and b is \" + myFunction(a,b))\n"
      ],
      "text/plain": [
       "<IPython.core.display.Javascript object>"
      ]
     },
     "metadata": {},
     "output_type": "display_data"
    }
   ],
   "source": [
    "%%js\n",
    "function myFunction(p1, p2) {\n",
    "  return p1 * p2;   // The function returns the product of p1 and p2\n",
    "}\n",
    "\n",
    "let a = 3;\n",
    "let b = 4;\n",
    "element.text(\"The product of a and b is \" + myFunction(a,b))"
   ]
  },
  {
   "cell_type": "markdown",
   "metadata": {
    "slideshow": {
     "slide_type": "subslide"
    }
   },
   "source": [
    "### Arrow Function\n",
    "\n",
    "JavaScript arrow functions are roughly the equivalent of lambda functions in python or blocks in Ruby."
   ]
  },
  {
   "cell_type": "code",
   "execution_count": 1,
   "metadata": {
    "slideshow": {
     "slide_type": "fragment"
    }
   },
   "outputs": [
    {
     "data": {
      "application/javascript": [
       "\n",
       "const add = (a, b) => a + b;\n",
       "element.text(add(1,2))\n"
      ],
      "text/plain": [
       "<IPython.core.display.Javascript object>"
      ]
     },
     "metadata": {},
     "output_type": "display_data"
    }
   ],
   "source": [
    "%%js\n",
    "\n",
    "const add = (a, b) => a + b;\n",
    "element.text(add(1,2))"
   ]
  },
  {
   "cell_type": "markdown",
   "metadata": {
    "slideshow": {
     "slide_type": "subslide"
    }
   },
   "source": [
    "## Class\n",
    "\n",
    "ES6, also known as ECMAScript2015, introduced classes.\n",
    "\n",
    "A class is a type of function, but instead of using the keyword `function` to initiate it, we use the keyword `class`, and the properties is assigned inside a `constructor()` method."
   ]
  },
  {
   "cell_type": "markdown",
   "metadata": {
    "slideshow": {
     "slide_type": "subslide"
    }
   },
   "source": [
    "### Class Definition\n",
    "Use the keyword `class` to create a class, and always add a `constructor` method.\n",
    "\n",
    "The `constructor` method is called each time the class object is initialized.\n",
    "\n",
    "```js\n",
    "class Car {\n",
    "  constructor(brand) {\n",
    "    this.carname = brand;\n",
    "  }\n",
    "}\n",
    "let mycar = new Car(\"Ford\");\n",
    "```"
   ]
  },
  {
   "cell_type": "code",
   "execution_count": 32,
   "metadata": {
    "slideshow": {
     "slide_type": "fragment"
    }
   },
   "outputs": [
    {
     "data": {
      "application/javascript": [
       "class Car {\n",
       "  constructor(brand) {\n",
       "    this.carname = brand;\n",
       "  }\n",
       "}\n",
       "let mycar = new Car(\"Ford\");\n",
       "element.text(typeof mycar)\n"
      ],
      "text/plain": [
       "<IPython.core.display.Javascript object>"
      ]
     },
     "metadata": {},
     "output_type": "display_data"
    }
   ],
   "source": [
    "%%js\n",
    "class Car {\n",
    "  constructor(brand) {\n",
    "    this.carname = brand;\n",
    "  }\n",
    "}\n",
    "let mycar = new Car(\"Ford\");\n",
    "element.text(typeof mycar);"
   ]
  },
  {
   "cell_type": "markdown",
   "metadata": {
    "slideshow": {
     "slide_type": "subslide"
    }
   },
   "source": [
    "## More about JS...\n",
    "\n",
    "- https://www.w3schools.com/js/"
   ]
  },
  {
   "cell_type": "markdown",
   "metadata": {
    "slideshow": {
     "slide_type": "subslide"
    }
   },
   "source": [
    "## OpenGL Pipeline\n",
    "<img src=\"./figures/pipeline.png\" alt=\"drawing\" width=\"500\"/>\n",
    "\n",
    "\\* We will cover the details in week2's discussions"
   ]
  },
  {
   "cell_type": "markdown",
   "metadata": {
    "slideshow": {
     "slide_type": "slide"
    }
   },
   "source": [
    "# Tiny-Graphics and Assignemnt 1\n",
    "\n",
    "- Tiny Graphics: https://github.com/intro-graphics/tiny-graphics-js\n",
    "- Assignment 1: https://classroom.github.com/a/evOkPI0Z\n",
    "- WebStorm: https://www.jetbrains.com/webstorm/"
   ]
  },
  {
   "cell_type": "markdown",
   "metadata": {
    "slideshow": {
     "slide_type": "slide"
    }
   },
   "source": [
    "# Question\n",
    "\n",
    "Difference between OpenGL, WebGL, and GLSL."
   ]
  }
 ],
 "metadata": {
  "celltoolbar": "Slideshow",
  "kernelspec": {
   "display_name": "Python 3",
   "language": "python",
   "name": "python3"
  },
  "language_info": {
   "codemirror_mode": {
    "name": "ipython",
    "version": 3
   },
   "file_extension": ".py",
   "mimetype": "text/x-python",
   "name": "python",
   "nbconvert_exporter": "python",
   "pygments_lexer": "ipython3",
   "version": "3.8.5"
  }
 },
 "nbformat": 4,
 "nbformat_minor": 4
}
